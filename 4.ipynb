{
 "cells": [
  {
   "cell_type": "code",
   "execution_count": 3,
   "id": "initial_id",
   "metadata": {
    "collapsed": true,
    "ExecuteTime": {
     "end_time": "2023-08-31T12:59:09.700478Z",
     "start_time": "2023-08-31T12:59:09.688970Z"
    }
   },
   "outputs": [],
   "source": [
    "import imageio\n",
    "import torch\n",
    "import numpy as np"
   ]
  },
  {
   "cell_type": "code",
   "execution_count": 3,
   "outputs": [
    {
     "name": "stderr",
     "output_type": "stream",
     "text": [
      "/var/folders/n8/pv0qg3q13r1f_9lbfy75_8_r0000gn/T/ipykernel_3740/1850207428.py:1: DeprecationWarning: Starting with ImageIO v3 the behavior of this function will switch to that of iio.v3.imread. To keep the current behavior (and make this warning disappear) use `import imageio.v2 as imageio` or call `imageio.v2.imread` directly.\n",
      "  img_arr = imageio.imread(\"data/bobby.jpg\")\n"
     ]
    },
    {
     "data": {
      "text/plain": "(720, 1280, 3)"
     },
     "execution_count": 3,
     "metadata": {},
     "output_type": "execute_result"
    }
   ],
   "source": [
    "img_arr = imageio.imread(\"data/bobby.jpg\")\n",
    "img_arr.shape"
   ],
   "metadata": {
    "collapsed": false,
    "ExecuteTime": {
     "end_time": "2023-08-29T13:40:37.792047Z",
     "start_time": "2023-08-29T13:40:37.778610Z"
    }
   },
   "id": "a650637d8a7c49fb"
  },
  {
   "cell_type": "code",
   "execution_count": 5,
   "outputs": [
    {
     "data": {
      "text/plain": "torch.Size([3, 720, 1280])"
     },
     "execution_count": 5,
     "metadata": {},
     "output_type": "execute_result"
    }
   ],
   "source": [
    "img = torch.from_numpy(img_arr)\n",
    "out = img.permute(2, 0, 1)\n",
    "out.shape"
   ],
   "metadata": {
    "collapsed": false,
    "ExecuteTime": {
     "end_time": "2023-08-29T13:41:15.305244Z",
     "start_time": "2023-08-29T13:41:15.300741Z"
    }
   },
   "id": "2c14762e47f87a6f"
  },
  {
   "cell_type": "code",
   "execution_count": 6,
   "outputs": [
    {
     "name": "stderr",
     "output_type": "stream",
     "text": [
      "/var/folders/n8/pv0qg3q13r1f_9lbfy75_8_r0000gn/T/ipykernel_3740/219099561.py:7: DeprecationWarning: Starting with ImageIO v3 the behavior of this function will switch to that of iio.v3.imread. To keep the current behavior (and make this warning disappear) use `import imageio.v2 as imageio` or call `imageio.v2.imread` directly.\n",
      "  img_arr = imageio.imread(\"data/cat/\" + filename)\n"
     ]
    }
   ],
   "source": [
    "import os\n",
    "\n",
    "batch_size = 3\n",
    "batch = torch.zeros(batch_size, 3, 256, 256, dtype=torch.uint8)\n",
    "filenames = [name for name in os.listdir(\"data/cat/\") if os.path.splitext(name)[-1] == \".png\"]\n",
    "for i, filename in enumerate(filenames):\n",
    "    img_arr = imageio.imread(\"data/cat/\" + filename)\n",
    "    img_t = torch.from_numpy(img_arr)\n",
    "    img_t = img_t.permute(2, 0, 1)\n",
    "    img_t = img_t[:3]\n",
    "    batch[i] = img_t"
   ],
   "metadata": {
    "collapsed": false,
    "ExecuteTime": {
     "end_time": "2023-08-29T13:48:39.665453Z",
     "start_time": "2023-08-29T13:48:39.644446Z"
    }
   },
   "id": "30ba8900855de6c4"
  },
  {
   "cell_type": "code",
   "execution_count": 8,
   "outputs": [
    {
     "data": {
      "text/plain": "tensor([[[0.6235, 0.6118, 0.4980,  ..., 0.6000, 0.5961, 0.6275],\n         [0.6941, 0.5373, 0.6588,  ..., 0.4824, 0.5451, 0.5529],\n         [0.5098, 0.6235, 0.4314,  ..., 0.5255, 0.5725, 0.6549],\n         ...,\n         [0.4667, 0.5255, 0.5216,  ..., 0.5059, 0.4706, 0.4471],\n         [0.5216, 0.5255, 0.4941,  ..., 0.4588, 0.4824, 0.4549],\n         [0.5216, 0.4980, 0.4745,  ..., 0.4510, 0.4824, 0.4784]],\n\n        [[0.5412, 0.5255, 0.4235,  ..., 0.5255, 0.5255, 0.5725],\n         [0.6235, 0.4627, 0.5804,  ..., 0.4078, 0.4745, 0.4824],\n         [0.4392, 0.5451, 0.3490,  ..., 0.4588, 0.5020, 0.5922],\n         ...,\n         [0.3843, 0.4275, 0.4314,  ..., 0.4588, 0.4235, 0.4039],\n         [0.4314, 0.4314, 0.4118,  ..., 0.4157, 0.4392, 0.4118],\n         [0.4314, 0.4039, 0.3961,  ..., 0.4039, 0.4314, 0.4353]],\n\n        [[0.5020, 0.4745, 0.3765,  ..., 0.5098, 0.5137, 0.5686],\n         [0.6039, 0.4275, 0.5294,  ..., 0.3961, 0.4627, 0.4706],\n         [0.4039, 0.5137, 0.3098,  ..., 0.4353, 0.4863, 0.5686],\n         ...,\n         [0.3608, 0.4196, 0.4078,  ..., 0.4941, 0.4510, 0.4235],\n         [0.4196, 0.4196, 0.3804,  ..., 0.4314, 0.4588, 0.4314],\n         [0.4157, 0.3804, 0.3686,  ..., 0.4235, 0.4510, 0.4549]]])"
     },
     "execution_count": 8,
     "metadata": {},
     "output_type": "execute_result"
    }
   ],
   "source": [
    "# 画像の正規化\n",
    "batch = batch.float()\n",
    "batch /= 255.0\n",
    "batch[0]"
   ],
   "metadata": {
    "collapsed": false,
    "ExecuteTime": {
     "end_time": "2023-08-29T13:55:09.513914Z",
     "start_time": "2023-08-29T13:55:09.507647Z"
    }
   },
   "id": "7a13cdeb60cf80f2"
  },
  {
   "cell_type": "code",
   "execution_count": 17,
   "outputs": [],
   "source": [
    "n_channels = batch.shape[1]\n",
    "for c in range(n_channels):\n",
    "    mean = torch.mean(batch[:, c])\n",
    "    std = torch.std(batch[:, c])\n",
    "    batch[:, c] = (batch[:, c] - mean) / std"
   ],
   "metadata": {
    "collapsed": false,
    "ExecuteTime": {
     "end_time": "2023-08-29T13:57:24.739765Z",
     "start_time": "2023-08-29T13:57:24.734285Z"
    }
   },
   "id": "dd52992de4b69f5a"
  },
  {
   "cell_type": "code",
   "execution_count": 13,
   "outputs": [
    {
     "data": {
      "text/plain": "array([[ 7.  ,  0.27,  0.36, ...,  0.45,  8.8 ,  6.  ],\n       [ 6.3 ,  0.3 ,  0.34, ...,  0.49,  9.5 ,  6.  ],\n       [ 8.1 ,  0.28,  0.4 , ...,  0.44, 10.1 ,  6.  ],\n       ...,\n       [ 6.5 ,  0.24,  0.19, ...,  0.46,  9.4 ,  6.  ],\n       [ 5.5 ,  0.29,  0.3 , ...,  0.38, 12.8 ,  7.  ],\n       [ 6.  ,  0.21,  0.38, ...,  0.32, 11.8 ,  6.  ]], dtype=float32)"
     },
     "execution_count": 13,
     "metadata": {},
     "output_type": "execute_result"
    }
   ],
   "source": [
    "# 表形式データ\n",
    "import csv\n",
    "import numpy as np\n",
    "wine_path = \"data/winequality-white.csv\"\n",
    "wineq_numpy = np.loadtxt(wine_path, dtype=np.float32, delimiter=\";\", skiprows=1)\n",
    "wineq_numpy"
   ],
   "metadata": {
    "collapsed": false,
    "ExecuteTime": {
     "end_time": "2023-08-31T13:02:43.171535Z",
     "start_time": "2023-08-31T13:02:43.161587Z"
    }
   },
   "id": "ba475de30176a22e"
  },
  {
   "cell_type": "code",
   "execution_count": 14,
   "outputs": [
    {
     "data": {
      "text/plain": "((4898, 12),\n ['fixed acidity',\n  'volatile acidity',\n  'citric acid',\n  'residual sugar',\n  'chlorides',\n  'free sulfur dioxide',\n  'total sulfur dioxide',\n  'density',\n  'pH',\n  'sulphates',\n  'alcohol',\n  'quality'])"
     },
     "execution_count": 14,
     "metadata": {},
     "output_type": "execute_result"
    }
   ],
   "source": [
    "col_list = next(csv.reader(open(wine_path), delimiter=\";\"))\n",
    "wineq_numpy.shape, col_list"
   ],
   "metadata": {
    "collapsed": false,
    "ExecuteTime": {
     "end_time": "2023-08-31T13:02:44.299456Z",
     "start_time": "2023-08-31T13:02:44.280039Z"
    }
   },
   "id": "cae84daaf22e50e3"
  },
  {
   "cell_type": "code",
   "execution_count": 15,
   "outputs": [
    {
     "data": {
      "text/plain": "(torch.Size([4898, 12]), torch.float32)"
     },
     "execution_count": 15,
     "metadata": {},
     "output_type": "execute_result"
    }
   ],
   "source": [
    "wineq = torch.from_numpy(wineq_numpy)\n",
    "wineq.shape, wineq.dtype"
   ],
   "metadata": {
    "collapsed": false,
    "ExecuteTime": {
     "end_time": "2023-08-31T13:02:45.449416Z",
     "start_time": "2023-08-31T13:02:45.446949Z"
    }
   },
   "id": "84109e585969be0f"
  },
  {
   "cell_type": "code",
   "execution_count": 16,
   "outputs": [
    {
     "data": {
      "text/plain": "(tensor([[ 7.0000,  0.2700,  0.3600,  ...,  3.0000,  0.4500,  8.8000],\n         [ 6.3000,  0.3000,  0.3400,  ...,  3.3000,  0.4900,  9.5000],\n         [ 8.1000,  0.2800,  0.4000,  ...,  3.2600,  0.4400, 10.1000],\n         ...,\n         [ 6.5000,  0.2400,  0.1900,  ...,  2.9900,  0.4600,  9.4000],\n         [ 5.5000,  0.2900,  0.3000,  ...,  3.3400,  0.3800, 12.8000],\n         [ 6.0000,  0.2100,  0.3800,  ...,  3.2600,  0.3200, 11.8000]]),\n torch.Size([4898, 11]),\n tensor([6., 6., 6.,  ..., 6., 7., 6.]),\n torch.Size([4898]))"
     },
     "execution_count": 16,
     "metadata": {},
     "output_type": "execute_result"
    }
   ],
   "source": [
    "data = wineq[:, :-1]\n",
    "target = wineq[:, -1]\n",
    "data, data.shape, target, target.shape"
   ],
   "metadata": {
    "collapsed": false,
    "ExecuteTime": {
     "end_time": "2023-08-31T13:02:47.572154Z",
     "start_time": "2023-08-31T13:02:47.566675Z"
    }
   },
   "id": "668a966ffdac0b3c"
  },
  {
   "cell_type": "code",
   "execution_count": 17,
   "outputs": [
    {
     "data": {
      "text/plain": "tensor([6, 6, 6,  ..., 6, 7, 6])"
     },
     "execution_count": 17,
     "metadata": {},
     "output_type": "execute_result"
    }
   ],
   "source": [
    "target = wineq[:, -1].long()\n",
    "target"
   ],
   "metadata": {
    "collapsed": false,
    "ExecuteTime": {
     "end_time": "2023-08-31T13:02:48.427749Z",
     "start_time": "2023-08-31T13:02:48.420538Z"
    }
   },
   "id": "f935ea615f6b9d8c"
  },
  {
   "cell_type": "code",
   "execution_count": 19,
   "outputs": [],
   "source": [
    "target_onehot = torch.zeros(target.shape[0], 10)\n",
    "# target_onehot.scatter_(1, target.unsqueeze(1), 1.0)"
   ],
   "metadata": {
    "collapsed": false,
    "ExecuteTime": {
     "end_time": "2023-08-31T13:03:03.360532Z",
     "start_time": "2023-08-31T13:03:03.357689Z"
    }
   },
   "id": "982002c58283acb7"
  },
  {
   "cell_type": "code",
   "execution_count": 21,
   "outputs": [
    {
     "data": {
      "text/plain": "(torch.Size([4898, 10]), torch.Size([4898]), torch.Size([4898, 1]))"
     },
     "execution_count": 21,
     "metadata": {},
     "output_type": "execute_result"
    }
   ],
   "source": [
    "target_onehot.shape, target.shape, target.unsqueeze(1).shape"
   ],
   "metadata": {
    "collapsed": false,
    "ExecuteTime": {
     "end_time": "2023-08-31T13:03:20.490244Z",
     "start_time": "2023-08-31T13:03:20.487872Z"
    }
   },
   "id": "10abe9e155791776"
  },
  {
   "cell_type": "code",
   "execution_count": 11,
   "outputs": [
    {
     "data": {
      "text/plain": "tensor([[ 1.7208e-01, -8.1761e-02,  2.1326e-01,  ..., -1.2468e+00,\n         -3.4915e-01, -1.3930e+00],\n        [-6.5743e-01,  2.1587e-01,  4.7996e-02,  ...,  7.3995e-01,\n          1.3422e-03, -8.2419e-01],\n        [ 1.4756e+00,  1.7450e-02,  5.4378e-01,  ...,  4.7505e-01,\n         -4.3677e-01, -3.3663e-01],\n        ...,\n        [-4.2043e-01, -3.7940e-01, -1.1915e+00,  ..., -1.3130e+00,\n         -2.6153e-01, -9.0545e-01],\n        [-1.6054e+00,  1.1666e-01, -2.8253e-01,  ...,  1.0049e+00,\n         -9.6251e-01,  1.8574e+00],\n        [-1.0129e+00, -6.7703e-01,  3.7852e-01,  ...,  4.7505e-01,\n         -1.4882e+00,  1.0448e+00]])"
     },
     "execution_count": 11,
     "metadata": {},
     "output_type": "execute_result"
    }
   ],
   "source": [
    "data_mean = torch.mean(data, dim=0)\n",
    "data_var = torch.var(data, dim=0)\n",
    "data_norm = (data - data_mean) / torch.sqrt(data_var)\n",
    "data_norm"
   ],
   "metadata": {
    "collapsed": false,
    "ExecuteTime": {
     "end_time": "2023-08-30T13:13:55.439441Z",
     "start_time": "2023-08-30T13:13:55.432726Z"
    }
   },
   "id": "dd332fa5f864507e"
  },
  {
   "cell_type": "code",
   "execution_count": 13,
   "outputs": [
    {
     "data": {
      "text/plain": "tensor(20)"
     },
     "execution_count": 13,
     "metadata": {},
     "output_type": "execute_result"
    }
   ],
   "source": [
    "bad_indexes = target <= 3\n",
    "torch.sum(bad_indexes)"
   ],
   "metadata": {
    "collapsed": false,
    "ExecuteTime": {
     "end_time": "2023-08-30T13:14:36.522851Z",
     "start_time": "2023-08-30T13:14:36.519342Z"
    }
   },
   "id": "3ffbe1aada8e99a8"
  },
  {
   "cell_type": "code",
   "execution_count": 18,
   "outputs": [
    {
     "name": "stdout",
     "output_type": "stream",
     "text": [
      " 0 fixed acidity          7.60   6.89   6.73\n",
      " 1 volatile acidity       0.33   0.28   0.27\n",
      " 2 citric acid            0.34   0.34   0.33\n",
      " 3 residual sugar         6.39   6.71   5.26\n",
      " 4 chlorides              0.05   0.05   0.04\n",
      " 5 free sulfur dioxide   53.33  35.42  34.55\n",
      " 6 total sulfur dioxide 170.60 141.83 125.25\n",
      " 7 density                0.99   0.99   0.99\n",
      " 8 pH                     3.19   3.18   3.22\n",
      " 9 sulphates              0.47   0.49   0.50\n",
      "10 alcohol               10.34  10.26  11.42\n"
     ]
    }
   ],
   "source": [
    "bad_data = data[target <= 3]\n",
    "mid_data = data[(target > 3) & (target < 7)]\n",
    "good_data = data[target >= 7]\n",
    "bad_mean = torch.mean(bad_data, dim=0)\n",
    "mid_mean = torch.mean(mid_data, dim=0)\n",
    "good_mean = torch.mean(good_data, dim=0)\n",
    "\n",
    "for i, args in enumerate(zip(col_list, bad_mean, mid_mean, good_mean)):\n",
    "    print(\"{:2} {:20} {:6.2f} {:6.2f} {:6.2f}\".format(i, *args))"
   ],
   "metadata": {
    "collapsed": false,
    "ExecuteTime": {
     "end_time": "2023-08-30T13:16:33.471748Z",
     "start_time": "2023-08-30T13:16:33.465557Z"
    }
   },
   "id": "737c6b875a4f7c5"
  },
  {
   "cell_type": "code",
   "execution_count": 19,
   "outputs": [
    {
     "data": {
      "text/plain": "(2018, 0.74000733406674, 0.6193984039287906)"
     },
     "execution_count": 19,
     "metadata": {},
     "output_type": "execute_result"
    }
   ],
   "source": [
    "total_sulfur_thre = 141.83\n",
    "total_sulfur_data = data[:, 6]\n",
    "predicted_index = total_sulfur_data < total_sulfur_thre\n",
    "actual_index = target > 5\n",
    "\n",
    "n_matched = torch.sum(predicted_index & actual_index).item()\n",
    "n_predicted = torch.sum(predicted_index).item()\n",
    "n_actual = torch.sum(actual_index).item()\n",
    "n_matched, n_matched / n_predicted, n_matched / n_actual"
   ],
   "metadata": {
    "collapsed": false,
    "ExecuteTime": {
     "end_time": "2023-08-30T13:20:47.325707Z",
     "start_time": "2023-08-30T13:20:47.308577Z"
    }
   },
   "id": "9373711d5b2d52da"
  },
  {
   "cell_type": "code",
   "execution_count": 4,
   "outputs": [
    {
     "data": {
      "text/plain": "torch.Size([17520, 17])"
     },
     "execution_count": 4,
     "metadata": {},
     "output_type": "execute_result"
    }
   ],
   "source": [
    "# 時系列データ\n",
    "bikes_numpy = np.loadtxt(\"data/hour-fixed.csv\", dtype=np.float32, delimiter=\",\", skiprows=1, converters={1: lambda x: float(x[8:10])})\n",
    "bikes = torch.from_numpy(bikes_numpy)\n",
    "bikes.shape"
   ],
   "metadata": {
    "collapsed": false,
    "ExecuteTime": {
     "end_time": "2023-08-31T12:59:22.498166Z",
     "start_time": "2023-08-31T12:59:22.470695Z"
    }
   },
   "id": "74ad49455583e07a"
  },
  {
   "cell_type": "code",
   "execution_count": 22,
   "outputs": [
    {
     "name": "stdout",
     "output_type": "stream",
     "text": [
      "torch.Size([730, 24, 17])\n"
     ]
    },
    {
     "data": {
      "text/plain": "(torch.Size([730, 17, 24]), (408, 1, 17))"
     },
     "execution_count": 22,
     "metadata": {},
     "output_type": "execute_result"
    }
   ],
   "source": [
    "daily_bikes = bikes.view(-1, 24, bikes.shape[1])\n",
    "print(daily_bikes.shape)\n",
    "daily_bikes = daily_bikes.transpose(1, 2)\n",
    "daily_bikes.shape, daily_bikes.stride()"
   ],
   "metadata": {
    "collapsed": false,
    "ExecuteTime": {
     "end_time": "2023-08-31T13:05:20.813926Z",
     "start_time": "2023-08-31T13:05:20.806193Z"
    }
   },
   "id": "a511d58da9477d62"
  },
  {
   "cell_type": "code",
   "execution_count": 25,
   "outputs": [],
   "source": [
    "first_day = bikes[:24].long()\n",
    "weather_onehot = torch.zeros(first_day.shape[0], 4)"
   ],
   "metadata": {
    "collapsed": false,
    "ExecuteTime": {
     "end_time": "2023-08-31T13:05:51.548953Z",
     "start_time": "2023-08-31T13:05:51.546194Z"
    }
   },
   "id": "317700c42f6fe8f9"
  },
  {
   "cell_type": "code",
   "execution_count": 27,
   "outputs": [
    {
     "data": {
      "text/plain": "tensor([[1., 0., 0., 0.],\n        [1., 0., 0., 0.],\n        [1., 0., 0., 0.],\n        [1., 0., 0., 0.],\n        [1., 0., 0., 0.],\n        [0., 1., 0., 0.],\n        [1., 0., 0., 0.],\n        [1., 0., 0., 0.],\n        [1., 0., 0., 0.],\n        [1., 0., 0., 0.],\n        [1., 0., 0., 0.],\n        [1., 0., 0., 0.],\n        [1., 0., 0., 0.],\n        [0., 1., 0., 0.],\n        [0., 1., 0., 0.],\n        [0., 1., 0., 0.],\n        [0., 1., 0., 0.],\n        [0., 1., 0., 0.],\n        [0., 0., 1., 0.],\n        [0., 0., 1., 0.],\n        [0., 1., 0., 0.],\n        [0., 1., 0., 0.],\n        [0., 1., 0., 0.],\n        [0., 1., 0., 0.]])"
     },
     "execution_count": 27,
     "metadata": {},
     "output_type": "execute_result"
    }
   ],
   "source": [
    "weather_onehot.scatter_(dim=1, index=first_day[:, 9].unsqueeze(1).long() - 1, value=1.0)\n",
    "weather_onehot"
   ],
   "metadata": {
    "collapsed": false,
    "ExecuteTime": {
     "end_time": "2023-08-31T13:05:55.379004Z",
     "start_time": "2023-08-31T13:05:55.376192Z"
    }
   },
   "id": "e0c3f2a962cca1b5"
  },
  {
   "cell_type": "code",
   "execution_count": 30,
   "outputs": [
    {
     "data": {
      "text/plain": "torch.Size([1, 21])"
     },
     "execution_count": 30,
     "metadata": {},
     "output_type": "execute_result"
    }
   ],
   "source": [
    "torch.cat((bikes[:24], weather_onehot), 1)[:1].shape"
   ],
   "metadata": {
    "collapsed": false,
    "ExecuteTime": {
     "end_time": "2023-08-31T13:06:44.547955Z",
     "start_time": "2023-08-31T13:06:44.541843Z"
    }
   },
   "id": "4c079f392a2222e5"
  },
  {
   "cell_type": "code",
   "execution_count": 35,
   "outputs": [
    {
     "data": {
      "text/plain": "torch.Size([730, 4, 24])"
     },
     "execution_count": 35,
     "metadata": {},
     "output_type": "execute_result"
    }
   ],
   "source": [
    "daily_weather_onehot = torch.zeros(daily_bikes.shape[0], 4, daily_bikes.shape[2])\n",
    "daily_weather_onehot.shape"
   ],
   "metadata": {
    "collapsed": false,
    "ExecuteTime": {
     "end_time": "2023-08-31T13:08:22.132850Z",
     "start_time": "2023-08-31T13:08:22.130979Z"
    }
   },
   "id": "ca9a96fa2e337758"
  },
  {
   "cell_type": "code",
   "execution_count": 37,
   "outputs": [
    {
     "data": {
      "text/plain": "torch.Size([730, 4, 24])"
     },
     "execution_count": 37,
     "metadata": {},
     "output_type": "execute_result"
    }
   ],
   "source": [
    "daily_weather_onehot.scatter_(dim=1, index=daily_bikes[:, 9, :].long().unsqueeze(1) - 1, value=1.0)\n",
    "daily_weather_onehot.shape"
   ],
   "metadata": {
    "collapsed": false,
    "ExecuteTime": {
     "end_time": "2023-08-31T13:08:59.728507Z",
     "start_time": "2023-08-31T13:08:59.725034Z"
    }
   },
   "id": "a13766b36c083ec1"
  },
  {
   "cell_type": "code",
   "execution_count": 38,
   "outputs": [
    {
     "data": {
      "text/plain": "torch.Size([730, 21, 24])"
     },
     "execution_count": 38,
     "metadata": {},
     "output_type": "execute_result"
    }
   ],
   "source": [
    "daily_bikes = torch.cat((daily_bikes, daily_weather_onehot), dim=1)\n",
    "daily_bikes.shape"
   ],
   "metadata": {
    "collapsed": false,
    "ExecuteTime": {
     "end_time": "2023-08-31T13:09:17.181714Z",
     "start_time": "2023-08-31T13:09:17.172293Z"
    }
   },
   "id": "c6d71a4f8bea5512"
  },
  {
   "cell_type": "code",
   "execution_count": 42,
   "outputs": [],
   "source": [
    "# テキストデータ\n",
    "with open(\"data/jane.txt\") as f:\n",
    "    text = f.read()\n",
    "\n",
    "lines = text.split(\"\\n\")\n",
    "line = lines[200]\n",
    "letter_t = torch.zeros(len(lines), 128)\n",
    "for i, letter in enumerate(line.lower().strip()):\n",
    "    letter_index = ord(letter) if ord(letter) < 128 else 0 \n",
    "    letter_t[i][letter_index] = 1"
   ],
   "metadata": {
    "collapsed": false,
    "ExecuteTime": {
     "end_time": "2023-08-31T13:17:17.689258Z",
     "start_time": "2023-08-31T13:17:17.682162Z"
    }
   },
   "id": "433fdc2966cf916f"
  },
  {
   "cell_type": "code",
   "execution_count": 43,
   "outputs": [
    {
     "data": {
      "text/plain": "('“Impossible, Mr. Bennet, impossible, when I am not acquainted with him',\n ['impossible',\n  'mr',\n  'bennet',\n  'impossible',\n  'when',\n  'i',\n  'am',\n  'not',\n  'acquainted',\n  'with',\n  'him'])"
     },
     "execution_count": 43,
     "metadata": {},
     "output_type": "execute_result"
    }
   ],
   "source": [
    "def clean_words(input_str):\n",
    "    punctuation = '.,;:\"!?”“_-'\n",
    "    word_list = input_str.lower().replace(\"\\n\", \" \").split()\n",
    "    word_list = [word.strip(punctuation) for word in word_list]\n",
    "    return word_list\n",
    "\n",
    "words_in_line = clean_words(line)\n",
    "line, words_in_line"
   ],
   "metadata": {
    "collapsed": false,
    "ExecuteTime": {
     "end_time": "2023-08-31T13:18:22.173616Z",
     "start_time": "2023-08-31T13:18:22.158514Z"
    }
   },
   "id": "9f7a2a90a75f2c59"
  },
  {
   "cell_type": "code",
   "execution_count": 45,
   "outputs": [
    {
     "data": {
      "text/plain": "{'': 0,\n '#1342]': 1,\n '$5,000)': 2,\n \"'_she\": 3,\n \"'after\": 4,\n \"'ah\": 5,\n \"'as-is'\": 6,\n \"'bingley\": 7,\n \"'had\": 8,\n \"'having\": 9,\n \"'i\": 10,\n \"'keep\": 11,\n \"'lady\": 12,\n \"'lately\": 13,\n \"'lydia\": 14,\n \"'mr\": 15,\n \"'my\": 16,\n \"'oh\": 17,\n \"'s\": 18,\n \"'this\": 19,\n \"'tis\": 20,\n \"'violently\": 21,\n \"'yes,'\": 22,\n \"'you\": 23,\n '($1': 24,\n '(801)': 25,\n '(a)': 26,\n '(an': 27,\n '(and': 28,\n '(any': 29,\n '(available': 30,\n '(b)': 31,\n '(by': 32,\n '(c)': 33,\n '(comparatively': 34,\n '(does': 35,\n '(for': 36,\n '(glancing': 37,\n '(if': 38,\n '(lady': 39,\n '(like': 40,\n '(most': 41,\n '(my': 42,\n '(or': 43,\n '(trademark/copyright)': 44,\n '(unasked': 45,\n '(what': 46,\n '(who': 47,\n '(www.gutenberg.org)': 48,\n '(“the': 49,\n '*': 50,\n '***': 51,\n '*****': 52,\n '1': 53,\n '1.a': 54,\n '1.b': 55,\n '1.c': 56,\n '1.d': 57,\n '1.e': 58,\n '1.e.1': 59,\n '1.e.2': 60,\n '1.e.3': 61,\n '1.e.4': 62,\n '1.e.5': 63,\n '1.e.6': 64,\n '1.e.7': 65,\n '1.e.8': 66,\n '1.e.9': 67,\n '1.f': 68,\n '1.f.1': 69,\n '1.f.2': 70,\n '1.f.3': 71,\n '1.f.4': 72,\n '1.f.5': 73,\n '1.f.6': 74,\n '10': 75,\n '11': 76,\n '12': 77,\n '13': 78,\n '1342-0.txt': 79,\n '1342-0.zip': 80,\n '14': 81,\n '15': 82,\n '1500': 83,\n '15th': 84,\n '16': 85,\n '17': 86,\n '18': 87,\n '18th': 88,\n '19': 89,\n '1998': 90,\n '2': 91,\n '20': 92,\n '20%': 93,\n '2001': 94,\n '2008': 95,\n '2018': 96,\n '21': 97,\n '22': 98,\n '23': 99,\n '24': 100,\n '25': 101,\n '26': 102,\n '26th': 103,\n '27': 104,\n '28': 105,\n '29': 106,\n '3': 107,\n '30': 108,\n '31': 109,\n '32': 110,\n '33': 111,\n '34': 112,\n '35': 113,\n '36': 114,\n '37': 115,\n '38': 116,\n '39': 117,\n '4': 118,\n '40': 119,\n '41': 120,\n '42': 121,\n '43': 122,\n '44': 123,\n '45': 124,\n '4557': 125,\n '46': 126,\n '47': 127,\n '48': 128,\n '49': 129,\n '5': 130,\n '50': 131,\n '501(c)(3)': 132,\n '51': 133,\n '52': 134,\n '53': 135,\n '54': 136,\n '55': 137,\n '56': 138,\n '57': 139,\n '58': 140,\n '59': 141,\n '596-1887': 142,\n '6': 143,\n '60': 144,\n '61': 145,\n '64-6221541': 146,\n '7': 147,\n '8': 148,\n '809': 149,\n '84116': 150,\n '9': 151,\n '90': 152,\n '99712': 153,\n '[ebook': 154,\n 'a': 155,\n 'a-shooting': 156,\n 'abatement': 157,\n 'abhorrence': 158,\n 'abhorrent': 159,\n 'abide': 160,\n 'abiding': 161,\n 'abilities': 162,\n 'able': 163,\n 'ablution': 164,\n 'abode': 165,\n 'abominable': 166,\n 'abominably': 167,\n 'abominate': 168,\n 'abound': 169,\n 'about': 170,\n 'above': 171,\n 'abroad': 172,\n 'abrupt': 173,\n 'abruptly': 174,\n 'abruptness': 175,\n 'absence': 176,\n 'absent': 177,\n 'absolute': 178,\n 'absolutely': 179,\n 'absurd': 180,\n 'absurdities': 181,\n 'absurdity': 182,\n 'abundant': 183,\n 'abundantly': 184,\n 'abuse': 185,\n 'abused': 186,\n 'abusing': 187,\n 'abusive': 188,\n 'accede': 189,\n 'acceded': 190,\n 'acceding': 191,\n 'accent': 192,\n 'accents': 193,\n 'accept': 194,\n 'acceptable': 195,\n 'acceptance': 196,\n 'accepted': 197,\n 'accepting': 198,\n 'access': 199,\n 'accessed': 200,\n 'accessible': 201,\n 'accident': 202,\n 'accidental': 203,\n 'accidentally': 204,\n 'accompanied': 205,\n 'accompany': 206,\n 'accompanying': 207,\n 'accomplished': 208,\n 'accomplished!--she': 209,\n 'accomplishment': 210,\n 'accomplishments': 211,\n 'accordance': 212,\n 'according': 213,\n 'accordingly': 214,\n 'accosted': 215,\n 'account': 216,\n 'accounted': 217,\n 'accounting': 218,\n 'accounts': 219,\n 'accuracy': 220,\n 'accurate': 221,\n 'accusation': 222,\n 'accusations': 223,\n 'accuse': 224,\n 'accused': 225,\n 'accusing': 226,\n 'accustomed': 227,\n 'ached': 228,\n 'achieving': 229,\n 'acknowledge': 230,\n 'acknowledged': 231,\n 'acknowledging': 232,\n 'acknowledgment': 233,\n 'acknowledgments': 234,\n 'acquaint': 235,\n 'acquaintance': 236,\n 'acquaintance--an': 237,\n 'acquaintances': 238,\n 'acquainted': 239,\n 'acquainting': 240,\n 'acquiesce': 241,\n 'acquiescence': 242,\n 'acquire': 243,\n 'acquired': 244,\n 'acquisition': 245,\n 'acquit': 246,\n 'acrimony': 247,\n 'across': 248,\n 'act': 249,\n 'acted': 250,\n 'acting': 251,\n 'action': 252,\n 'actions': 253,\n 'actions--may': 254,\n 'active': 255,\n 'activity': 256,\n 'actual': 257,\n 'actually': 258,\n 'actuated': 259,\n 'acute': 260,\n 'acutely': 261,\n 'acutest': 262,\n 'adapted': 263,\n 'add': 264,\n 'added': 265,\n 'adding': 266,\n 'addition': 267,\n 'additional': 268,\n 'additions': 269,\n 'address': 270,\n 'addressed': 271,\n 'addresses': 272,\n 'addressing': 273,\n 'adds': 274,\n 'adept': 275,\n 'adequate': 276,\n 'adhered': 277,\n 'adhering': 278,\n 'adieu': 279,\n 'adieus': 280,\n 'adjusting': 281,\n 'admirable': 282,\n 'admiration': 283,\n 'admire': 284,\n 'admired': 285,\n 'admirer': 286,\n 'admires': 287,\n 'admiring': 288,\n 'admission': 289,\n 'admit': 290,\n 'admittance': 291,\n 'admitted': 292,\n 'admitting': 293,\n 'adopt': 294,\n 'adopted': 295,\n 'adoration': 296,\n 'adorned': 297,\n 'advance': 298,\n 'advanced': 299,\n 'advancement': 300,\n 'advances': 301,\n 'advantage': 302,\n 'advantageous': 303,\n 'advantageously': 304,\n 'advantages': 305,\n 'adventure': 306,\n 'advertised': 307,\n 'advice': 308,\n 'advisable': 309,\n 'advise': 310,\n 'advised': 311,\n 'advising': 312,\n 'affability': 313,\n 'affable': 314,\n 'affair': 315,\n 'affairs': 316,\n 'affect': 317,\n 'affectation': 318,\n 'affected': 319,\n 'affection': 320,\n 'affectionate': 321,\n 'affectionately': 322,\n 'affections': 323,\n 'affinity': 324,\n 'affirmative': 325,\n 'afflicted': 326,\n 'afflicting': 327,\n 'affliction': 328,\n 'afford': 329,\n 'afforded': 330,\n 'affording': 331,\n 'affords': 332,\n 'affront': 333,\n 'affronted': 334,\n 'afraid': 335,\n 'afresh': 336,\n 'after': 337,\n 'after--the': 338,\n 'afternoon': 339,\n 'afterwards': 340,\n 'again': 341,\n 'against': 342,\n 'age': 343,\n 'agent': 344,\n 'agitated': 345,\n 'agitation': 346,\n 'agitations': 347,\n 'ago': 348,\n 'agonies': 349,\n 'agony': 350,\n 'agree': 351,\n 'agreeable': 352,\n 'agreeable--allowing': 353,\n 'agreeable-looking': 354,\n 'agreeably': 355,\n 'agreed': 356,\n 'agreeing': 357,\n 'agreement': 358,\n 'ah': 359,\n 'aid': 360,\n 'aimed': 361,\n 'air': 362,\n 'airing': 363,\n 'airs': 364,\n 'ak': 365,\n 'alacrity': 366,\n 'alarm': 367,\n 'alarmed': 368,\n 'alarming': 369,\n 'alarms': 370,\n 'alas': 371,\n 'alienated': 372,\n 'alighted': 373,\n 'alike': 374,\n 'alive': 375,\n 'all': 376,\n 'all--all': 377,\n 'all--and': 378,\n 'allayed': 379,\n 'alleviate': 380,\n 'alleviated': 381,\n 'alliance': 382,\n 'allow': 383,\n 'allow--and': 384,\n 'allowable': 385,\n 'allowance': 386,\n 'allowances': 387,\n 'allowed': 388,\n 'allowing': 389,\n 'allude': 390,\n 'alluded': 391,\n 'alluding': 392,\n 'allurements': 393,\n 'allusion': 394,\n 'allusions': 395,\n 'almost': 396,\n 'alone': 397,\n 'along': 398,\n 'aloof': 399,\n 'aloud': 400,\n 'already': 401,\n 'also': 402,\n 'altar': 403,\n 'alter': 404,\n 'alteration': 405,\n 'alterations': 406,\n 'altered': 407,\n 'altered--what': 408,\n 'alternate': 409,\n 'alternative': 410,\n 'although': 411,\n 'altogether': 412,\n 'altogether--mr': 413,\n 'always': 414,\n 'am': 415,\n 'am--and': 416,\n 'amaze': 417,\n 'amazed': 418,\n 'amazement': 419,\n 'amazes': 420,\n 'amazing': 421,\n 'amazing!--but': 422,\n 'ambition': 423,\n 'amendment': 424,\n 'amends': 425,\n 'amends--but': 426,\n 'amends--of': 427,\n 'amiable': 428,\n 'amiable)': 429,\n 'amiable”--but': 430,\n 'amid': 431,\n 'amidst': 432,\n 'amiss': 433,\n 'among': 434,\n 'amongst': 435,\n 'amount': 436,\n 'amounting': 437,\n 'ample': 438,\n 'amply': 439,\n 'amuse': 440,\n 'amused': 441,\n 'amusement': 442,\n 'amusements': 443,\n 'amusing': 444,\n 'an': 445,\n 'ancient--though': 446,\n 'and': 447,\n 'anecdote': 448,\n 'anecdotes': 449,\n 'anew': 450,\n 'angel': 451,\n 'angelic': 452,\n 'anger': 453,\n 'angrily': 454,\n 'angry': 455,\n 'anguish': 456,\n 'animal': 457,\n 'animated': 458,\n 'animating': 459,\n 'animation': 460,\n 'ankle': 461,\n 'ankles': 462,\n 'anne': 463,\n \"anne's\": 464,\n 'annesley': 465,\n 'annexed': 466,\n 'announce': 467,\n 'announced': 468,\n 'annoyed': 469,\n 'annual': 470,\n 'annum': 471,\n 'anonymous': 472,\n 'another': 473,\n 'answer': 474,\n 'answer--but': 475,\n 'answerable': 476,\n 'answered': 477,\n 'answering': 478,\n 'answers': 479,\n 'antagonist': 480,\n 'ante-chamber': 481,\n 'anticipate': 482,\n 'anticipated': 483,\n 'anticipating': 484,\n 'anticipation': 485,\n 'anxiety': 486,\n 'anxious': 487,\n 'anxiously': 488,\n 'any': 489,\n 'any)': 490,\n 'anybody': 491,\n \"anybody's\": 492,\n 'anyhow': 493,\n 'anyone': 494,\n 'anything': 495,\n 'anywhere': 496,\n 'apace': 497,\n 'apartment': 498,\n 'apartments': 499,\n 'apologies': 500,\n 'apologise': 501,\n 'apologised': 502,\n 'apologising': 503,\n 'apology': 504,\n 'apothecary': 505,\n 'apparel': 506,\n 'apparent': 507,\n 'apparently': 508,\n 'appeal': 509,\n 'appeals': 510,\n 'appear': 511,\n 'appearance': 512,\n 'appearances': 513,\n 'appeared': 514,\n 'appearing': 515,\n 'appears': 516,\n 'appease': 517,\n 'appeased': 518,\n 'appertain': 519,\n 'appetite': 520,\n 'applicable': 521,\n 'application': 522,\n 'applied': 523,\n 'applies': 524,\n 'apply': 525,\n 'applying': 526,\n 'appointed': 527,\n 'appointment': 528,\n 'apprehended': 529,\n 'apprehending': 530,\n 'apprehension': 531,\n 'apprehensions': 532,\n 'apprehensive': 533,\n 'approach': 534,\n 'approached': 535,\n 'approaching': 536,\n 'approbation': 537,\n 'approve': 538,\n 'approved': 539,\n 'april': 540,\n 'apt': 541,\n 'arch': 542,\n 'archbishop': 543,\n 'archive': 544,\n 'archly': 545,\n 'archness': 546,\n 'ardent': 547,\n 'ardently': 548,\n 'are': 549,\n 'are)': 550,\n 'argued': 551,\n 'arguing': 552,\n 'argument': 553,\n 'arguments': 554,\n 'arise': 555,\n 'arisen': 556,\n 'arising': 557,\n 'arm': 558,\n 'arm-in-arm': 559,\n 'army': 560,\n 'arose': 561,\n 'around': 562,\n 'aroused': 563,\n 'arrange': 564,\n 'arranged': 565,\n 'arrangement': 566,\n 'arrangements': 567,\n 'arranges': 568,\n 'arranging': 569,\n 'array': 570,\n 'arrear': 571,\n 'arrested': 572,\n 'arrival': 573,\n 'arrive': 574,\n 'arrived': 575,\n 'arrived--that': 576,\n 'arriving': 577,\n 'arrogance': 578,\n 'arrogant': 579,\n 'art': 580,\n 'artful': 581,\n 'artfully': 582,\n 'article': 583,\n 'articles': 584,\n 'artificial': 585,\n 'arts': 586,\n 'as': 587,\n 'ascended': 588,\n 'ascertain': 589,\n 'ascertaining': 590,\n 'ascii': 591,\n 'ashamed': 592,\n 'ashworth': 593,\n 'aside': 594,\n 'ask': 595,\n 'asked': 596,\n 'asking': 597,\n 'aspect': 598,\n 'asperity': 599,\n 'aspire': 600,\n 'assembled': 601,\n 'assemblies': 602,\n 'assembly': 603,\n 'assent': 604,\n 'assented': 605,\n 'assents': 606,\n 'assert': 607,\n 'asserted': 608,\n 'asserting': 609,\n 'assertion': 610,\n 'assertions': 611,\n 'assiduous': 612,\n 'assiduously': 613,\n 'assist': 614,\n 'assistance': 615,\n 'assistant': 616,\n 'assisted': 617,\n 'assisting': 618,\n 'associated': 619,\n 'associated)': 620,\n 'associating': 621,\n 'assume': 622,\n 'assumed': 623,\n 'assurance': 624,\n 'assurances': 625,\n 'assure': 626,\n 'assured': 627,\n 'assuring': 628,\n 'astonish': 629,\n 'astonish--and': 630,\n 'astonished': 631,\n 'astonishment': 632,\n 'at': 633,\n 'ate': 634,\n 'atone': 635,\n 'atoned': 636,\n 'atonement': 637,\n 'atonement--for': 638,\n 'attach': 639,\n 'attached': 640,\n 'attachment': 641,\n 'attachments': 642,\n 'attack': 643,\n 'attacked': 644,\n 'attacks': 645,\n 'attained': 646,\n 'attempt': 647,\n 'attempted': 648,\n 'attempting': 649,\n 'attend': 650,\n 'attendance': 651,\n 'attendant': 652,\n 'attendants': 653,\n 'attended': 654,\n 'attending': 655,\n 'attention': 656,\n 'attentions': 657,\n 'attentive': 658,\n 'attentively': 659,\n 'attics': 660,\n 'attitude': 661,\n 'attorney': 662,\n 'attracted': 663,\n 'attraction': 664,\n 'attractions': 665,\n 'attribute': 666,\n 'attributed': 667,\n 'attributing': 668,\n 'audible': 669,\n 'audience': 670,\n 'aught': 671,\n 'augment': 672,\n 'augmented': 673,\n 'august': 674,\n 'aunt': 675,\n \"aunt's\": 676,\n 'aunts': 677,\n 'austen': 678,\n 'austerity': 679,\n 'author': 680,\n 'authorise': 681,\n 'authorised': 682,\n 'authorising': 683,\n 'authoritative': 684,\n 'authority': 685,\n 'authorized': 686,\n 'avail': 687,\n 'available': 688,\n 'availed': 689,\n 'avarice': 690,\n 'avenue': 691,\n 'avoid': 692,\n 'avoidance': 693,\n 'avoided': 694,\n 'avoiding': 695,\n 'avowal': 696,\n 'avowed': 697,\n 'awaited': 698,\n 'awake': 699,\n 'awakened': 700,\n 'aware': 701,\n 'away': 702,\n 'away--you': 703,\n 'awe': 704,\n 'awed': 705,\n 'awful': 706,\n 'awkward': 707,\n 'awkwardness': 708,\n 'awoke': 709,\n 'aye': 710,\n 'aye--because': 711,\n 'aye--that': 712,\n 'b': 713,\n 'back': 714,\n 'backed': 715,\n 'backgammon': 716,\n 'backward': 717,\n 'backwards': 718,\n 'bad': 719,\n 'bad--belongs': 720,\n 'bakewell': 721,\n 'ball': 722,\n 'ball--and': 723,\n 'ball-room': 724,\n 'balls': 725,\n 'balm': 726,\n 'bandbox': 727,\n 'banish': 728,\n 'banished': 729,\n 'banks': 730,\n 'barbarous': 731,\n 'barbarously': 732,\n 'bare': 733,\n 'barefaced': 734,\n 'barely': 735,\n 'barnet': 736,\n 'barouche-box': 737,\n 'based': 738,\n 'bashful': 739,\n 'basis': 740,\n 'bath': 741,\n 'bathing-place': 742,\n 'battled': 743,\n 'be': 744,\n 'be!--engaged': 745,\n 'be--but': 746,\n 'bear': 747,\n 'bearing': 748,\n 'bears': 749,\n 'beatings': 750,\n 'beauteous': 751,\n 'beauties': 752,\n 'beautiful': 753,\n 'beauty': 754,\n 'beauty!--i': 755,\n 'beaux': 756,\n 'became': 757,\n 'because': 758,\n 'become': 759,\n 'becomes': 760,\n 'becoming': 761,\n 'bed': 762,\n 'bedrooms': 763,\n 'been': 764,\n 'befall': 765,\n 'before': 766,\n 'before)': 767,\n 'beforehand': 768,\n 'befriended': 769,\n 'beg': 770,\n 'began': 771,\n 'begged': 772,\n 'begging': 773,\n 'begin': 774,\n 'beginning': 775,\n 'beginning--from': 776,\n 'begins': 777,\n 'begins--but': 778,\n 'begs': 779,\n 'begun': 780,\n 'behalf': 781,\n 'behave': 782,\n 'behaved': 783,\n 'behaves': 784,\n 'behaviour': 785,\n 'beheld': 786,\n 'behind': 787,\n 'beholding': 788,\n 'being': 789,\n 'belief': 790,\n 'believe': 791,\n 'believed': 792,\n 'believes': 793,\n 'believing': 794,\n 'bell': 795,\n 'bell--i': 796,\n 'belong': 797,\n 'belonged': 798,\n 'belonging': 799,\n 'belongs': 800,\n 'beloved': 801,\n 'below': 802,\n 'benches': 803,\n 'beneath': 804,\n 'beneficence': 805,\n 'beneficial': 806,\n 'benefit': 807,\n 'benefited': 808,\n 'benefiting': 809,\n 'benefits': 810,\n 'benevolence': 811,\n 'benevolent': 812,\n 'bennet': 813,\n \"bennet's\": 814,\n \"bennet,'\": 815,\n \"bennet.'--my\": 816,\n 'bennets': 817,\n 'bent': 818,\n 'bequeathed': 819,\n 'bequest': 820,\n 'besides': 821,\n 'best': 822,\n 'bestow': 823,\n 'bestow!--how': 824,\n 'bestowed': 825,\n 'bestowing': 826,\n 'betray': 827,\n 'betrayed': 828,\n 'bets': 829,\n 'better': 830,\n 'between': 831,\n 'bewailed': 832,\n 'bewildered': 833,\n 'bewitched': 834,\n 'bewitching': 835,\n 'beyond': 836,\n 'bid': 837,\n 'bidding': 838,\n 'billiard-table': 839,\n 'bills': 840,\n 'binary': 841,\n 'bingley': 842,\n \"bingley's\": 843,\n 'bingley)': 844,\n 'bingleys': 845,\n \"bingleys'\": 846,\n 'birds': 847,\n 'birmingham': 848,\n 'birth': 849,\n 'bit': 850,\n 'biting': 851,\n 'bitter': 852,\n 'bitterest': 853,\n 'bitterly': 854,\n 'bitterness': 855,\n 'black': 856,\n 'blacken': 857,\n 'blame': 858,\n 'blameable': 859,\n 'blamed': 860,\n 'blameless': 861,\n 'blamelessness': 862,\n 'blaming': 863,\n 'blasted': 864,\n 'blemish': 865,\n 'blenheim': 866,\n 'bless': 867,\n 'blessed': 868,\n 'blessing': 869,\n 'blind': 870,\n 'blinded': 871,\n 'blinds': 872,\n 'blots': 873,\n 'blow': 874,\n 'blown': 875,\n 'blowsy': 876,\n 'blue': 877,\n 'blush': 878,\n 'blushed': 879,\n 'blushing': 880,\n 'board': 881,\n 'boast': 882,\n 'boasted': 883,\n 'boasting': 884,\n 'bodies': 885,\n 'body': 886,\n 'boisterously': 887,\n 'bold': 888,\n 'boldly': 889,\n 'bonnet': 890,\n 'book': 891,\n 'book-room': 892,\n 'books': 893,\n 'books--oh': 894,\n 'bordered': 895,\n 'bordering': 896,\n 'bore': 897,\n 'born': 898,\n 'borne': 899,\n 'borrow': 900,\n 'borrowed': 901,\n 'bosom': 902,\n 'bosoms': 903,\n 'both': 904,\n 'bottle': 905,\n 'bottom': 906,\n 'bought': 907,\n 'boulanger': 908,\n 'bound': 909,\n 'boundary': 910,\n 'boundless': 911,\n 'bounds': 912,\n 'bounty': 913,\n 'bourgh': 914,\n \"bourgh's\": 915,\n 'bourgh--the': 916,\n 'bow': 917,\n 'bowed': 918,\n 'bowing': 919,\n 'bowl': 920,\n 'bows': 921,\n 'boxes': 922,\n 'boy': 923,\n 'boys': 924,\n 'bracelets': 925,\n 'brain': 926,\n 'brains': 927,\n 'branch': 928,\n 'breach': 929,\n 'break': 930,\n 'breakfast': 931,\n 'breakfast-parlour': 932,\n 'breakfast-room': 933,\n 'breakfasted': 934,\n 'breaking': 935,\n 'breast': 936,\n 'breath': 937,\n 'breathed': 938,\n 'breathing': 939,\n 'breathless': 940,\n 'breeding': 941,\n 'brevity': 942,\n 'bribe': 943,\n 'bribery': 944,\n 'bride': 945,\n 'bridegroom': 946,\n 'bridge': 947,\n 'briefly': 948,\n 'bright': 949,\n 'brightened': 950,\n 'brightening': 951,\n 'brightest': 952,\n 'brighton': 953,\n 'brilliancy': 954,\n 'bring': 955,\n 'bring--good': 956,\n 'bringing': 957,\n 'brings': 958,\n 'brink': 959,\n 'britain': 960,\n 'british': 961,\n 'brittle': 962,\n 'broad-faced': 963,\n 'broke': 964,\n 'broken': 965,\n 'bromley': 966,\n 'brooking': 967,\n 'brother': 968,\n \"brother's\": 969,\n 'brother--very': 970,\n 'brother-in-law': 971,\n \"brother-in-law's\": 972,\n 'brotherly': 973,\n 'brothers': 974,\n 'brought': 975,\n 'brow': 976,\n 'brown': 977,\n 'build': 978,\n 'building': 979,\n 'built': 980,\n 'burning': 981,\n 'burnt': 982,\n 'burst': 983,\n 'burying': 984,\n 'busily': 985,\n 'business': 986,\n 'business@pglaf.org': 987,\n 'bustle': 988,\n 'busy': 989,\n 'but': 990,\n 'but--good': 991,\n \"butcher's\": 992,\n 'butler': 993,\n 'buy': 994,\n 'buying': 995,\n 'by': 996,\n 'bye': 997,\n 'cake': 998,\n 'calculate': 999,\n ...}"
     },
     "execution_count": 45,
     "metadata": {},
     "output_type": "execute_result"
    }
   ],
   "source": [
    "word_list = sorted(set(clean_words(text)))\n",
    "word2index_dict = {word: i for (i, word) in enumerate(word_list)}\n",
    "word2index_dict"
   ],
   "metadata": {
    "collapsed": false,
    "ExecuteTime": {
     "end_time": "2023-08-31T13:19:05.181584Z",
     "start_time": "2023-08-31T13:19:05.179372Z"
    }
   },
   "id": "827801fc36623015"
  },
  {
   "cell_type": "code",
   "execution_count": 46,
   "outputs": [
    {
     "name": "stdout",
     "output_type": "stream",
     "text": [
      " 0 3394 impossible\n",
      " 1 4305 mr\n",
      " 2  813 bennet\n",
      " 3 3394 impossible\n",
      " 4 7078 when\n",
      " 5 3315 i\n",
      " 6  415 am\n",
      " 7 4436 not\n",
      " 8  239 acquainted\n",
      " 9 7148 with\n",
      "10 3215 him\n"
     ]
    }
   ],
   "source": [
    "word_t = torch.zeros(len(words_in_line), len(word2index_dict))\n",
    "for i, word in enumerate(words_in_line):\n",
    "    word_index = word2index_dict[word]\n",
    "    word_t[i][word_index] = 1\n",
    "    print(\"{:2} {:4} {}\".format(i, word_index, word))"
   ],
   "metadata": {
    "collapsed": false,
    "ExecuteTime": {
     "end_time": "2023-08-31T13:20:06.751360Z",
     "start_time": "2023-08-31T13:20:06.741485Z"
    }
   },
   "id": "874de851538ef228"
  },
  {
   "cell_type": "code",
   "execution_count": null,
   "outputs": [],
   "source": [],
   "metadata": {
    "collapsed": false
   },
   "id": "bf7fce40bf0bf687"
  }
 ],
 "metadata": {
  "kernelspec": {
   "display_name": "Python 3",
   "language": "python",
   "name": "python3"
  },
  "language_info": {
   "codemirror_mode": {
    "name": "ipython",
    "version": 2
   },
   "file_extension": ".py",
   "mimetype": "text/x-python",
   "name": "python",
   "nbconvert_exporter": "python",
   "pygments_lexer": "ipython2",
   "version": "2.7.6"
  }
 },
 "nbformat": 4,
 "nbformat_minor": 5
}
