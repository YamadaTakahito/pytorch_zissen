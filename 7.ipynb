{
 "cells": [
  {
   "cell_type": "code",
   "execution_count": 26,
   "id": "initial_id",
   "metadata": {
    "collapsed": true,
    "ExecuteTime": {
     "end_time": "2023-09-02T08:24:34.724907Z",
     "start_time": "2023-09-02T08:24:33.262790Z"
    }
   },
   "outputs": [
    {
     "name": "stdout",
     "output_type": "stream",
     "text": [
      "Files already downloaded and verified\n",
      "Files already downloaded and verified\n"
     ]
    }
   ],
   "source": [
    "from torchvision import datasets\n",
    "import matplotlib.pyplot as plt\n",
    "import torch\n",
    "data_path = './data'\n",
    "cifar10 = datasets.CIFAR10(data_path, train=True, download=True)\n",
    "cifar10_val = datasets.CIFAR10(data_path, train=False, download=True)"
   ]
  },
  {
   "cell_type": "code",
   "execution_count": 7,
   "outputs": [
    {
     "name": "stdout",
     "output_type": "stream",
     "text": [
      "<PIL.Image.Image image mode=RGB size=32x32 at 0x13F48F010> 7 horse\n"
     ]
    },
    {
     "data": {
      "text/plain": "<PIL.Image.Image image mode=RGB size=32x32>",
      "image/png": "[encoded data removed]"
     },
     "execution_count": 7,
     "metadata": {},
     "output_type": "execute_result"
    }
   ],
   "source": [
    "img, label = cifar10_val[99]\n",
    "print(img, label, cifar10_val.classes[label])\n",
    "img"
   ],
   "metadata": {
    "collapsed": false,
    "ExecuteTime": {
     "end_time": "2023-09-02T08:13:11.759140Z",
     "start_time": "2023-09-02T08:13:11.754135Z"
    }
   },
   "id": "796c4276675b42fd"
  },
  {
   "cell_type": "code",
   "execution_count": 8,
   "outputs": [
    {
     "data": {
      "text/plain": "torch.Size([3, 32, 32])"
     },
     "execution_count": 8,
     "metadata": {},
     "output_type": "execute_result"
    }
   ],
   "source": [
    "from torchvision import transforms\n",
    "to_tensor = transforms.ToTensor()\n",
    "img_t = to_tensor(img)\n",
    "img_t.shape"
   ],
   "metadata": {
    "collapsed": false,
    "ExecuteTime": {
     "end_time": "2023-09-02T08:14:07.716908Z",
     "start_time": "2023-09-02T08:14:07.714131Z"
    }
   },
   "id": "cab0594437edf93e"
  },
  {
   "cell_type": "code",
   "execution_count": 15,
   "outputs": [
    {
     "data": {
      "text/plain": "torch.Size([3, 32, 32, 50000])"
     },
     "execution_count": 15,
     "metadata": {},
     "output_type": "execute_result"
    }
   ],
   "source": [
    "tensor_cifar10 = datasets.CIFAR10(data_path, train=True, download=False, transform=transforms.ToTensor())\n",
    "imgs = torch.stack([img_t for img_t, _ in tensor_cifar10], dim=3)\n",
    "imgs.shape"
   ],
   "metadata": {
    "collapsed": false,
    "ExecuteTime": {
     "end_time": "2023-09-02T08:18:15.753548Z",
     "start_time": "2023-09-02T08:18:13.185316Z"
    }
   },
   "id": "1a2cc6a38f4040ce"
  },
  {
   "cell_type": "code",
   "execution_count": 20,
   "outputs": [
    {
     "name": "stdout",
     "output_type": "stream",
     "text": [
      "torch.Size([3, 51200000])\n",
      "tensor([0.4914, 0.4822, 0.4465])\n",
      "tensor([0.2470, 0.2435, 0.2616])\n"
     ]
    }
   ],
   "source": [
    "print(imgs.view(3, -1).shape)\n",
    "print(imgs.view(3, -1).mean(dim=1))\n",
    "print(imgs.view(3, -1).std(dim=1))"
   ],
   "metadata": {
    "collapsed": false,
    "ExecuteTime": {
     "end_time": "2023-09-02T08:19:21.647302Z",
     "start_time": "2023-09-02T08:19:21.006485Z"
    }
   },
   "id": "f3d053cc12e156a1"
  },
  {
   "cell_type": "code",
   "execution_count": 47,
   "outputs": [
    {
     "data": {
      "text/plain": "Dataset CIFAR10\n    Number of datapoints: 50000\n    Root location: ./data\n    Split: Train\n    StandardTransform\nTransform: Compose(\n               ToTensor()\n               Normalize(mean=(0.4914, 0.4822, 0.4465), std=(0.247, 0.2435, 0.2616))\n           )"
     },
     "execution_count": 47,
     "metadata": {},
     "output_type": "execute_result"
    }
   ],
   "source": [
    "transfer = transforms.Normalize((0.4914, 0.4822, 0.4465), (0.2470, 0.2435, 0.2616))\n",
    "transformed_cifar10 = datasets.CIFAR10(data_path, train=True, download=False, transform=transforms.Compose([transforms.ToTensor(), transfer]))\n",
    "transformed_cifar10_val = datasets.CIFAR10(data_path, train=False, download=False, transform=transforms.Compose([transforms.ToTensor(), transfer]))\n",
    "transformed_cifar10"
   ],
   "metadata": {
    "collapsed": false,
    "ExecuteTime": {
     "end_time": "2023-09-02T13:10:38.765937Z",
     "start_time": "2023-09-02T13:10:38.078192Z"
    }
   },
   "id": "2f89961ce0531271"
  },
  {
   "cell_type": "code",
   "execution_count": 28,
   "outputs": [
    {
     "name": "stderr",
     "output_type": "stream",
     "text": [
      "Clipping input data to the valid range for imshow with RGB data ([0..1] for floats or [0..255] for integers).\n"
     ]
    },
    {
     "data": {
      "text/plain": "<matplotlib.image.AxesImage at 0x28fab9c90>"
     },
     "execution_count": 28,
     "metadata": {},
     "output_type": "execute_result"
    },
    {
     "data": {
      "text/plain": "<Figure size 640x480 with 1 Axes>",
      "image/png": "[encoded data removed]"
     },
     "metadata": {},
     "output_type": "display_data"
    }
   ],
   "source": [
    "img_t, _ = transformed_cifar10[99]\n",
    "plt.imshow(img_t.permute(1, 2, 0))"
   ],
   "metadata": {
    "collapsed": false,
    "ExecuteTime": {
     "end_time": "2023-09-02T08:24:51.876300Z",
     "start_time": "2023-09-02T08:24:51.799014Z"
    }
   },
   "id": "62232953366cb152"
  },
  {
   "cell_type": "code",
   "execution_count": 48,
   "outputs": [],
   "source": [
    "label_map = {0: 0, 2: 1}\n",
    "class_names = {'airplane', 'bird'}\n",
    "cifar2 = [(img, label_map[label]) for img, label in transformed_cifar10 if label in [0, 2]]\n",
    "cifar2_val = [(img, label_map[label]) for img, label in transformed_cifar10_val if label in [0, 2]]"
   ],
   "metadata": {
    "collapsed": false,
    "ExecuteTime": {
     "end_time": "2023-09-02T13:10:47.156948Z",
     "start_time": "2023-09-02T13:10:43.781770Z"
    }
   },
   "id": "20b5b3b3f4f37052"
  },
  {
   "cell_type": "code",
   "execution_count": 37,
   "outputs": [],
   "source": [
    "import torch.nn as nn\n",
    "\n",
    "n_out = len(class_names)\n",
    "vec_count = 32 * 32 * 3\n",
    "hidden_count = 512\n",
    "\n",
    "model = nn.Sequential(\n",
    "    nn.Linear(\n",
    "        vec_count,\n",
    "        hidden_count\n",
    "    ),\n",
    "    nn.Tanh(),\n",
    "    nn.Linear(\n",
    "        hidden_count,\n",
    "        n_out\n",
    "    ),\n",
    "    nn.Softmax(dim=1)\n",
    ")"
   ],
   "metadata": {
    "collapsed": false,
    "ExecuteTime": {
     "end_time": "2023-09-02T08:37:00.569435Z",
     "start_time": "2023-09-02T08:37:00.557493Z"
    }
   },
   "id": "fb89d2933d64b5e2"
  },
  {
   "cell_type": "code",
   "execution_count": 38,
   "outputs": [
    {
     "data": {
      "text/plain": "<PIL.Image.Image image mode=RGB size=32x32>",
      "image/png": "[encoded data removed]"
     },
     "execution_count": 38,
     "metadata": {},
     "output_type": "execute_result"
    }
   ],
   "source": [
    "img, _ = cifar2[0]\n",
    "img"
   ],
   "metadata": {
    "collapsed": false,
    "ExecuteTime": {
     "end_time": "2023-09-02T08:37:14.846382Z",
     "start_time": "2023-09-02T08:37:14.838122Z"
    }
   },
   "id": "3e358a10507fed97"
  },
  {
   "cell_type": "code",
   "execution_count": 39,
   "outputs": [
    {
     "ename": "AttributeError",
     "evalue": "view",
     "output_type": "error",
     "traceback": [
      "\u001B[0;31m---------------------------------------------------------------------------\u001B[0m",
      "\u001B[0;31mAttributeError\u001B[0m                            Traceback (most recent call last)",
      "Cell \u001B[0;32mIn[39], line 1\u001B[0m\n\u001B[0;32m----> 1\u001B[0m img_batch \u001B[38;5;241m=\u001B[39m \u001B[43mimg\u001B[49m\u001B[38;5;241;43m.\u001B[39;49m\u001B[43mview\u001B[49m(\u001B[38;5;241m-\u001B[39m\u001B[38;5;241m1\u001B[39m)\u001B[38;5;241m.\u001B[39munsqueeze(\u001B[38;5;241m0\u001B[39m)\n\u001B[1;32m      2\u001B[0m img_batch\u001B[38;5;241m.\u001B[39mshape\n",
      "File \u001B[0;32m~/.pyenv/versions/3.11.3/lib/python3.11/site-packages/PIL/Image.py:528\u001B[0m, in \u001B[0;36mImage.__getattr__\u001B[0;34m(self, name)\u001B[0m\n\u001B[1;32m    526\u001B[0m     deprecate(\u001B[38;5;124m\"\u001B[39m\u001B[38;5;124mImage categories\u001B[39m\u001B[38;5;124m\"\u001B[39m, \u001B[38;5;241m10\u001B[39m, \u001B[38;5;124m\"\u001B[39m\u001B[38;5;124mis_animated\u001B[39m\u001B[38;5;124m\"\u001B[39m, plural\u001B[38;5;241m=\u001B[39m\u001B[38;5;28;01mTrue\u001B[39;00m)\n\u001B[1;32m    527\u001B[0m     \u001B[38;5;28;01mreturn\u001B[39;00m \u001B[38;5;28mself\u001B[39m\u001B[38;5;241m.\u001B[39m_category\n\u001B[0;32m--> 528\u001B[0m \u001B[38;5;28;01mraise\u001B[39;00m \u001B[38;5;167;01mAttributeError\u001B[39;00m(name)\n",
      "\u001B[0;31mAttributeError\u001B[0m: view"
     ]
    }
   ],
   "source": [
    "img_batch = img.view(-1).unsqueeze(0)\n",
    "img_batch.shape"
   ],
   "metadata": {
    "collapsed": false,
    "ExecuteTime": {
     "end_time": "2023-09-02T12:46:46.055817Z",
     "start_time": "2023-09-02T12:46:45.907091Z"
    }
   },
   "id": "94edfc5aa56cfeeb"
  },
  {
   "cell_type": "code",
   "execution_count": 58,
   "outputs": [
    {
     "name": "stdout",
     "output_type": "stream",
     "text": [
      "Epoch: 0, Loss: 3.915517807006836\n",
      "Epoch: 1, Loss: 2.0595297813415527\n",
      "Epoch: 2, Loss: 9.950984954833984\n",
      "Epoch: 3, Loss: 8.733173370361328\n",
      "Epoch: 4, Loss: 13.124435424804688\n",
      "Epoch: 5, Loss: 12.470376968383789\n",
      "Epoch: 6, Loss: 13.294343948364258\n",
      "Epoch: 7, Loss: 4.035276889801025\n",
      "Epoch: 8, Loss: 2.8991100788116455\n",
      "Epoch: 9, Loss: 7.084614276885986\n",
      "Epoch: 10, Loss: 8.070074081420898\n",
      "Epoch: 11, Loss: 8.646278381347656\n",
      "Epoch: 12, Loss: 1.9212489128112793\n",
      "Epoch: 13, Loss: 11.21290397644043\n",
      "Epoch: 14, Loss: 12.783259391784668\n"
     ]
    },
    {
     "ename": "KeyboardInterrupt",
     "evalue": "",
     "output_type": "error",
     "traceback": [
      "\u001B[0;31m---------------------------------------------------------------------------\u001B[0m",
      "\u001B[0;31mKeyboardInterrupt\u001B[0m                         Traceback (most recent call last)",
      "Cell \u001B[0;32mIn[58], line 20\u001B[0m\n\u001B[1;32m     17\u001B[0m     loss \u001B[38;5;241m=\u001B[39m loss_fn(out, torch\u001B[38;5;241m.\u001B[39mtensor([label]))\n\u001B[1;32m     19\u001B[0m     optimizer\u001B[38;5;241m.\u001B[39mzero_grad()\n\u001B[0;32m---> 20\u001B[0m     \u001B[43mloss\u001B[49m\u001B[38;5;241;43m.\u001B[39;49m\u001B[43mbackward\u001B[49m\u001B[43m(\u001B[49m\u001B[43m)\u001B[49m\n\u001B[1;32m     21\u001B[0m     optimizer\u001B[38;5;241m.\u001B[39mstep()\n\u001B[1;32m     23\u001B[0m \u001B[38;5;28mprint\u001B[39m(\u001B[38;5;124mf\u001B[39m\u001B[38;5;124m'\u001B[39m\u001B[38;5;124mEpoch: \u001B[39m\u001B[38;5;132;01m{\u001B[39;00mepoch\u001B[38;5;132;01m}\u001B[39;00m\u001B[38;5;124m, Loss: \u001B[39m\u001B[38;5;132;01m{\u001B[39;00m\u001B[38;5;28mfloat\u001B[39m(loss)\u001B[38;5;132;01m}\u001B[39;00m\u001B[38;5;124m'\u001B[39m)\n",
      "File \u001B[0;32m~/.pyenv/versions/3.11.3/lib/python3.11/site-packages/torch/_tensor.py:487\u001B[0m, in \u001B[0;36mTensor.backward\u001B[0;34m(self, gradient, retain_graph, create_graph, inputs)\u001B[0m\n\u001B[1;32m    477\u001B[0m \u001B[38;5;28;01mif\u001B[39;00m has_torch_function_unary(\u001B[38;5;28mself\u001B[39m):\n\u001B[1;32m    478\u001B[0m     \u001B[38;5;28;01mreturn\u001B[39;00m handle_torch_function(\n\u001B[1;32m    479\u001B[0m         Tensor\u001B[38;5;241m.\u001B[39mbackward,\n\u001B[1;32m    480\u001B[0m         (\u001B[38;5;28mself\u001B[39m,),\n\u001B[0;32m   (...)\u001B[0m\n\u001B[1;32m    485\u001B[0m         inputs\u001B[38;5;241m=\u001B[39minputs,\n\u001B[1;32m    486\u001B[0m     )\n\u001B[0;32m--> 487\u001B[0m \u001B[43mtorch\u001B[49m\u001B[38;5;241;43m.\u001B[39;49m\u001B[43mautograd\u001B[49m\u001B[38;5;241;43m.\u001B[39;49m\u001B[43mbackward\u001B[49m\u001B[43m(\u001B[49m\n\u001B[1;32m    488\u001B[0m \u001B[43m    \u001B[49m\u001B[38;5;28;43mself\u001B[39;49m\u001B[43m,\u001B[49m\u001B[43m \u001B[49m\u001B[43mgradient\u001B[49m\u001B[43m,\u001B[49m\u001B[43m \u001B[49m\u001B[43mretain_graph\u001B[49m\u001B[43m,\u001B[49m\u001B[43m \u001B[49m\u001B[43mcreate_graph\u001B[49m\u001B[43m,\u001B[49m\u001B[43m \u001B[49m\u001B[43minputs\u001B[49m\u001B[38;5;241;43m=\u001B[39;49m\u001B[43minputs\u001B[49m\n\u001B[1;32m    489\u001B[0m \u001B[43m\u001B[49m\u001B[43m)\u001B[49m\n",
      "File \u001B[0;32m~/.pyenv/versions/3.11.3/lib/python3.11/site-packages/torch/autograd/__init__.py:200\u001B[0m, in \u001B[0;36mbackward\u001B[0;34m(tensors, grad_tensors, retain_graph, create_graph, grad_variables, inputs)\u001B[0m\n\u001B[1;32m    195\u001B[0m     retain_graph \u001B[38;5;241m=\u001B[39m create_graph\n\u001B[1;32m    197\u001B[0m \u001B[38;5;66;03m# The reason we repeat same the comment below is that\u001B[39;00m\n\u001B[1;32m    198\u001B[0m \u001B[38;5;66;03m# some Python versions print out the first line of a multi-line function\u001B[39;00m\n\u001B[1;32m    199\u001B[0m \u001B[38;5;66;03m# calls in the traceback and some print out the last line\u001B[39;00m\n\u001B[0;32m--> 200\u001B[0m \u001B[43mVariable\u001B[49m\u001B[38;5;241;43m.\u001B[39;49m\u001B[43m_execution_engine\u001B[49m\u001B[38;5;241;43m.\u001B[39;49m\u001B[43mrun_backward\u001B[49m\u001B[43m(\u001B[49m\u001B[43m  \u001B[49m\u001B[38;5;66;43;03m# Calls into the C++ engine to run the backward pass\u001B[39;49;00m\n\u001B[1;32m    201\u001B[0m \u001B[43m    \u001B[49m\u001B[43mtensors\u001B[49m\u001B[43m,\u001B[49m\u001B[43m \u001B[49m\u001B[43mgrad_tensors_\u001B[49m\u001B[43m,\u001B[49m\u001B[43m \u001B[49m\u001B[43mretain_graph\u001B[49m\u001B[43m,\u001B[49m\u001B[43m \u001B[49m\u001B[43mcreate_graph\u001B[49m\u001B[43m,\u001B[49m\u001B[43m \u001B[49m\u001B[43minputs\u001B[49m\u001B[43m,\u001B[49m\n\u001B[1;32m    202\u001B[0m \u001B[43m    \u001B[49m\u001B[43mallow_unreachable\u001B[49m\u001B[38;5;241;43m=\u001B[39;49m\u001B[38;5;28;43;01mTrue\u001B[39;49;00m\u001B[43m,\u001B[49m\u001B[43m \u001B[49m\u001B[43maccumulate_grad\u001B[49m\u001B[38;5;241;43m=\u001B[39;49m\u001B[38;5;28;43;01mTrue\u001B[39;49;00m\u001B[43m)\u001B[49m\n",
      "\u001B[0;31mKeyboardInterrupt\u001B[0m: "
     ]
    }
   ],
   "source": [
    "model = nn.Sequential(\n",
    "    nn.Linear(vec_count, hidden_count),\n",
    "    nn.Tanh(),\n",
    "    nn.Linear(hidden_count, n_out),\n",
    "    nn.LogSoftmax(dim=1)\n",
    ")\n",
    "\n",
    "learning_rate = 1e-2\n",
    "optimizer = torch.optim.SGD(model.parameters(), lr=learning_rate)\n",
    "loss_fn = nn.NLLLoss()\n",
    "\n",
    "n_epochs = 100\n",
    "\n",
    "for epoch in range(n_epochs):\n",
    "    for img, label in cifar2:\n",
    "        out = model(img.view(-1).unsqueeze(0))\n",
    "        loss = loss_fn(out, torch.tensor([label]))\n",
    "        \n",
    "        optimizer.zero_grad()\n",
    "        loss.backward()\n",
    "        optimizer.step()\n",
    "        \n",
    "    print(f'Epoch: {epoch}, Loss: {float(loss)}')"
   ],
   "metadata": {
    "collapsed": false,
    "ExecuteTime": {
     "end_time": "2023-09-02T13:16:28.687020Z",
     "start_time": "2023-09-02T13:12:37.347111Z"
    }
   },
   "id": "2004eb5843fe2183"
  },
  {
   "cell_type": "code",
   "execution_count": 60,
   "outputs": [
    {
     "name": "stdout",
     "output_type": "stream",
     "text": [
      "Epoch: 0, Loss: 0.7809977531433105\n",
      "Epoch: 1, Loss: 0.38566136360168457\n",
      "Epoch: 2, Loss: 0.49020254611968994\n",
      "Epoch: 3, Loss: 0.40833789110183716\n",
      "Epoch: 4, Loss: 0.4792637825012207\n",
      "Epoch: 5, Loss: 0.39816227555274963\n",
      "Epoch: 6, Loss: 0.5163737535476685\n",
      "Epoch: 7, Loss: 0.4068490266799927\n",
      "Epoch: 8, Loss: 0.3702181279659271\n",
      "Epoch: 9, Loss: 0.39248740673065186\n",
      "Epoch: 10, Loss: 0.36288660764694214\n",
      "Epoch: 11, Loss: 0.48067477345466614\n",
      "Epoch: 12, Loss: 0.3439428210258484\n",
      "Epoch: 13, Loss: 0.24303680658340454\n",
      "Epoch: 14, Loss: 0.2740929126739502\n",
      "Epoch: 15, Loss: 0.22524937987327576\n",
      "Epoch: 16, Loss: 0.49391138553619385\n",
      "Epoch: 17, Loss: 0.2905483543872833\n",
      "Epoch: 18, Loss: 0.29750144481658936\n",
      "Epoch: 19, Loss: 0.149156853556633\n",
      "Epoch: 20, Loss: 0.4262350797653198\n",
      "Epoch: 21, Loss: 0.43521299958229065\n",
      "Epoch: 22, Loss: 0.29865211248397827\n",
      "Epoch: 23, Loss: 0.7447553277015686\n",
      "Epoch: 24, Loss: 0.14023470878601074\n",
      "Epoch: 25, Loss: 0.3415663242340088\n",
      "Epoch: 26, Loss: 0.24608522653579712\n",
      "Epoch: 27, Loss: 0.24311783909797668\n",
      "Epoch: 28, Loss: 0.14257293939590454\n",
      "Epoch: 29, Loss: 0.1401020735502243\n",
      "Epoch: 30, Loss: 0.17417338490486145\n",
      "Epoch: 31, Loss: 0.16997960209846497\n",
      "Epoch: 32, Loss: 0.3776618242263794\n",
      "Epoch: 33, Loss: 0.144229456782341\n",
      "Epoch: 34, Loss: 0.12717950344085693\n",
      "Epoch: 35, Loss: 0.12381019443273544\n",
      "Epoch: 36, Loss: 0.11133492738008499\n",
      "Epoch: 37, Loss: 0.23255884647369385\n",
      "Epoch: 38, Loss: 0.37741902470588684\n",
      "Epoch: 39, Loss: 0.169944629073143\n",
      "Epoch: 40, Loss: 0.20605596899986267\n",
      "Epoch: 41, Loss: 0.11236629635095596\n",
      "Epoch: 42, Loss: 0.13139648735523224\n",
      "Epoch: 43, Loss: 0.15063828229904175\n",
      "Epoch: 44, Loss: 0.21782636642456055\n",
      "Epoch: 45, Loss: 0.1724410057067871\n",
      "Epoch: 46, Loss: 0.1117488220334053\n",
      "Epoch: 47, Loss: 0.07256011664867401\n",
      "Epoch: 48, Loss: 0.22853249311447144\n",
      "Epoch: 49, Loss: 0.038809023797512054\n",
      "Epoch: 50, Loss: 0.04338527098298073\n",
      "Epoch: 51, Loss: 0.058210812509059906\n",
      "Epoch: 52, Loss: 0.10602781921625137\n",
      "Epoch: 53, Loss: 0.05294473096728325\n",
      "Epoch: 54, Loss: 0.08197732269763947\n",
      "Epoch: 55, Loss: 0.025940854102373123\n",
      "Epoch: 56, Loss: 0.07110433280467987\n",
      "Epoch: 57, Loss: 0.0658983662724495\n",
      "Epoch: 58, Loss: 0.22866784036159515\n",
      "Epoch: 59, Loss: 0.020215954631567\n",
      "Epoch: 60, Loss: 0.05540197715163231\n",
      "Epoch: 61, Loss: 0.011199692264199257\n",
      "Epoch: 62, Loss: 0.020317088812589645\n",
      "Epoch: 63, Loss: 0.02684677764773369\n",
      "Epoch: 64, Loss: 0.012046563439071178\n",
      "Epoch: 65, Loss: 0.0045784697867929935\n",
      "Epoch: 66, Loss: 0.03172595798969269\n",
      "Epoch: 67, Loss: 0.02204548940062523\n",
      "Epoch: 68, Loss: 0.06331085413694382\n",
      "Epoch: 69, Loss: 0.04755786433815956\n",
      "Epoch: 70, Loss: 0.030454743653535843\n",
      "Epoch: 71, Loss: 0.06241357699036598\n",
      "Epoch: 72, Loss: 0.026478415355086327\n",
      "Epoch: 73, Loss: 0.08128926903009415\n",
      "Epoch: 74, Loss: 0.03538409620523453\n",
      "Epoch: 75, Loss: 0.025391850620508194\n",
      "Epoch: 76, Loss: 0.03690369427204132\n",
      "Epoch: 77, Loss: 0.007396888919174671\n",
      "Epoch: 78, Loss: 0.006356503814458847\n",
      "Epoch: 79, Loss: 0.04140239953994751\n",
      "Epoch: 80, Loss: 0.005441443528980017\n",
      "Epoch: 81, Loss: 0.02496134489774704\n",
      "Epoch: 82, Loss: 0.019713083282113075\n",
      "Epoch: 83, Loss: 0.03019207902252674\n",
      "Epoch: 84, Loss: 0.00972605962306261\n",
      "Epoch: 85, Loss: 0.016084561124444008\n",
      "Epoch: 86, Loss: 0.02245006524026394\n",
      "Epoch: 87, Loss: 0.019261687994003296\n",
      "Epoch: 88, Loss: 0.02295316383242607\n",
      "Epoch: 89, Loss: 0.011237825267016888\n",
      "Epoch: 90, Loss: 0.015990277752280235\n",
      "Epoch: 91, Loss: 0.013878108002245426\n",
      "Epoch: 92, Loss: 0.016331078484654427\n",
      "Epoch: 93, Loss: 0.00759051414206624\n",
      "Epoch: 94, Loss: 0.022694678977131844\n",
      "Epoch: 95, Loss: 0.012479268945753574\n",
      "Epoch: 96, Loss: 0.012242821045219898\n",
      "Epoch: 97, Loss: 0.009501599706709385\n",
      "Epoch: 98, Loss: 0.020017340779304504\n",
      "Epoch: 99, Loss: 0.014364711940288544\n"
     ]
    }
   ],
   "source": [
    "train_loader = torch.utils.data.DataLoader(cifar2, batch_size=64, shuffle=True)\n",
    "\n",
    "model = nn.Sequential(\n",
    "    nn.Linear(vec_count, hidden_count),\n",
    "    nn.Tanh(),\n",
    "    nn.Linear(hidden_count, n_out),\n",
    "    nn.LogSoftmax(dim=1)\n",
    ")\n",
    "\n",
    "learning_rate = 1e-2\n",
    "optimizer = torch.optim.SGD(model.parameters(), lr=learning_rate)\n",
    "\n",
    "loss_fn = nn.NLLLoss()\n",
    "\n",
    "n_epochs = 100\n",
    "\n",
    "for epoch in range(n_epochs):\n",
    "    for imgs, labels in train_loader:\n",
    "        batch_size = imgs.shape[0]\n",
    "        outputs = model(imgs.view(batch_size, -1))\n",
    "        loss = loss_fn(outputs, labels)\n",
    "        \n",
    "        optimizer.zero_grad()\n",
    "        loss.backward()\n",
    "        optimizer.step()\n",
    "        \n",
    "    print(f'Epoch: {epoch}, Loss: {float(loss)}')"
   ],
   "metadata": {
    "collapsed": false,
    "ExecuteTime": {
     "end_time": "2023-09-02T13:37:07.573301Z",
     "start_time": "2023-09-02T13:36:30.788136Z"
    }
   },
   "id": "b06a8db59dd4c59d"
  },
  {
   "cell_type": "code",
   "execution_count": 66,
   "outputs": [
    {
     "name": "stdout",
     "output_type": "stream",
     "text": [
      "Accuracy: 0.812\n"
     ]
    }
   ],
   "source": [
    "val_loader = torch.utils.data.DataLoader(cifar2_val, batch_size=64, shuffle=False)\n",
    "\n",
    "correct = 0\n",
    "total = 0\n",
    "\n",
    "with torch.no_grad():\n",
    "    for imgs, labels in val_loader:\n",
    "        batch_size = imgs.shape[0]\n",
    "        outputs = model(imgs.view(batch_size, -1))\n",
    "        _, predict = torch.max(outputs, dim=1)\n",
    "        total += labels.shape[0]\n",
    "        correct += int((predict == labels).sum())\n",
    "        \n",
    "print(f'Accuracy: {correct / total}')"
   ],
   "metadata": {
    "collapsed": false,
    "ExecuteTime": {
     "end_time": "2023-09-02T13:41:35.982016Z",
     "start_time": "2023-09-02T13:41:35.948345Z"
    }
   },
   "id": "7f4b3b0b04395e2f"
  },
  {
   "cell_type": "code",
   "execution_count": 67,
   "outputs": [
    {
     "data": {
      "text/plain": "(1574402, [1572864, 512, 1024, 2])"
     },
     "execution_count": 67,
     "metadata": {},
     "output_type": "execute_result"
    }
   ],
   "source": [
    "numel_list = [p.numel() for p in model.parameters() if p.requires_grad == True]\n",
    "sum(numel_list), numel_list"
   ],
   "metadata": {
    "collapsed": false,
    "ExecuteTime": {
     "end_time": "2023-09-02T13:44:17.471515Z",
     "start_time": "2023-09-02T13:44:17.459422Z"
    }
   },
   "id": "84e6cb0ffa6a5e0f"
  },
  {
   "cell_type": "code",
   "execution_count": null,
   "outputs": [],
   "source": [],
   "metadata": {
    "collapsed": false
   },
   "id": "a2fce9e875dce8c5"
  }
 ],
 "metadata": {
  "kernelspec": {
   "display_name": "Python 3",
   "language": "python",
   "name": "python3"
  },
  "language_info": {
   "codemirror_mode": {
    "name": "ipython",
    "version": 2
   },
   "file_extension": ".py",
   "mimetype": "text/x-python",
   "name": "python",
   "nbconvert_exporter": "python",
   "pygments_lexer": "ipython2",
   "version": "2.7.6"
  }
 },
 "nbformat": 4,
 "nbformat_minor": 5
}
